{
 "cells": [
  {
   "cell_type": "code",
   "execution_count": 1,
   "id": "ebb1ccf4-b4fa-48eb-b130-5a3bf2a4d488",
   "metadata": {},
   "outputs": [],
   "source": [
    "import os\n",
    "import re\n",
    "import numpy as np\n",
    "from collections import Counter\n",
    "from matplotlib.image import imread"
   ]
  },
  {
   "cell_type": "code",
   "execution_count": null,
   "id": "b00fd139-0d0f-46ee-80f7-0e223b6b4327",
   "metadata": {},
   "outputs": [],
   "source": [
    "# Download data set from Kaggle and unzip into directory\n",
    "!pip install kaggle\n",
    "!mkdir -p ~/.kaggle\n",
    "!kaggle datasets download -d abdohamdg/fracatlas-dataset\n",
    "!unzip -q fracatlas-dataset.zip -d fracatlas_directory/"
   ]
  },
  {
   "cell_type": "code",
   "execution_count": 2,
   "id": "56a7a1f7-da6d-415f-ba6b-2f3e53d1ec9a",
   "metadata": {},
   "outputs": [],
   "source": [
    "# Base directory and subsets to access for images\n",
    "base_directory = 'fracatlas_directory/Fracatlas/'\n",
    "subsets = ['train', 'test', 'validation']"
   ]
  },
  {
   "cell_type": "code",
   "execution_count": 3,
   "id": "7ce42224-bd95-451f-8721-c1a9154f8e46",
   "metadata": {},
   "outputs": [
    {
     "name": "stdout",
     "output_type": "stream",
     "text": [
      "Train subset:\n",
      "  Number of images: 574\n",
      "  Number of labels: 574\n",
      "\n",
      "Test subset:\n",
      "  Number of images: 61\n",
      "  Number of labels: 61\n",
      "\n",
      "Validation subset:\n",
      "  Number of images: 82\n",
      "  Number of labels: 82\n",
      "\n",
      "Total number of images: 717\n",
      "Total number of labels: 717\n"
     ]
    }
   ],
   "source": [
    "# Check number of images and labels in each subset\n",
    "img_total = 0\n",
    "obs_total = 0\n",
    "\n",
    "# Iterate through each subset and count number of files\n",
    "for subset in subsets:\n",
    "    image_directory = os.path.join(base_directory, subset, 'images')\n",
    "\n",
    "    if subset == 'validation':\n",
    "        label_directory = os.path.join(base_directory, subset, 'lables')  # Possible typo in folder name\n",
    "    else:\n",
    "        label_directory = os.path.join(base_directory, subset, 'labels')\n",
    "\n",
    "    # Count image files\n",
    "    image_files = os.listdir(image_directory)\n",
    "    num_images = len(image_files)\n",
    "    img_total += num_images\n",
    "\n",
    "    # Count label files\n",
    "    label_files = os.listdir(label_directory)\n",
    "    num_labels = len(label_files)\n",
    "    obs_total += num_labels\n",
    "\n",
    "    # Print the counts\n",
    "    print(f\"{subset.capitalize()} subset:\")\n",
    "    print(f\"  Number of images: {num_images}\")\n",
    "    print(f\"  Number of labels: {num_labels}\\n\")\n",
    "\n",
    "print(f\"Total number of images: {img_total}\")\n",
    "print(f\"Total number of labels: {obs_total}\")"
   ]
  },
  {
   "cell_type": "code",
   "execution_count": 6,
   "id": "8bc5a1ed-404f-42d3-97d0-584cfdf3a458",
   "metadata": {},
   "outputs": [
    {
     "name": "stdout",
     "output_type": "stream",
     "text": [
      "Unique image sizes:\n",
      "(373, 214)\n",
      "(2880, 2304)\n",
      "(454, 373)\n",
      "(1760, 2140)\n",
      "(373, 454)\n",
      "(181, 454)\n",
      "(1727, 2049)\n",
      "(2304, 2880)\n",
      "(296, 454)\n"
     ]
    }
   ],
   "source": [
    "# List to store image sizes\n",
    "image_sizes = []\n",
    "\n",
    "# Iterate through each subset\n",
    "for subset in subsets:\n",
    "    image_directory = os.path.join(base_directory, subset, 'images')\n",
    "    image_files = os.listdir(image_directory)\n",
    "\n",
    "    # Process image files\n",
    "    for image_file in image_files:\n",
    "        image_file_path = os.path.join(image_directory, image_file)\n",
    "        img = imread(image_file_path)\n",
    "        if img is not None:\n",
    "            height, width = img.shape[:2]\n",
    "            image_sizes.append((width, height))\n",
    "        else:\n",
    "            print(f\"Failed to read image: {image_file_path}\")\n",
    "\n",
    "# Display unique image sizes\n",
    "unique_image_sizes = set(image_sizes)\n",
    "print(\"Unique image sizes:\")\n",
    "for size in unique_image_sizes:\n",
    "    print(size)"
   ]
  },
  {
   "cell_type": "code",
   "execution_count": 7,
   "id": "e176c9d1-1ef4-4889-adfa-9fe9d017b441",
   "metadata": {},
   "outputs": [
    {
     "name": "stdout",
     "output_type": "stream",
     "text": [
      "Images are not uniform.\n"
     ]
    }
   ],
   "source": [
    "# Determine if images are uniform\n",
    "if(len(unique_image_sizes) == 1):\n",
    "    print(\"Image sizes are uniform.\")\n",
    "else:\n",
    "    print(\"Images are not uniform.\")"
   ]
  }
 ],
 "metadata": {
  "kernelspec": {
   "display_name": "Python 3 (ipykernel)",
   "language": "python",
   "name": "python3"
  },
  "language_info": {
   "codemirror_mode": {
    "name": "ipython",
    "version": 3
   },
   "file_extension": ".py",
   "mimetype": "text/x-python",
   "name": "python",
   "nbconvert_exporter": "python",
   "pygments_lexer": "ipython3",
   "version": "3.12.6"
  }
 },
 "nbformat": 4,
 "nbformat_minor": 5
}
