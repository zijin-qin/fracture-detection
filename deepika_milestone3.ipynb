{
 "cells": [
  {
   "cell_type": "code",
   "execution_count": 1,
   "id": "e6ee559c-2737-463e-a516-6b1545c2bd7b",
   "metadata": {},
   "outputs": [],
   "source": [
    "import os\n",
    "import re\n",
    "import matplotlib.pyplot as plt\n",
    "import numpy as np\n",
    "from collections import Counter\n",
    "from matplotlib.image import imread\n",
    "import pandas as pd\n",
    "from PIL import Image\n",
    "import cv2"
   ]
  },
  {
   "cell_type": "code",
   "execution_count": 2,
   "id": "a75d87a8-6a0a-47e2-b493-8409a8d023d6",
   "metadata": {},
   "outputs": [
    {
     "name": "stderr",
     "output_type": "stream",
     "text": [
      "2024-11-16 21:18:36.199199: I external/local_xla/xla/tsl/cuda/cudart_stub.cc:32] Could not find cuda drivers on your machine, GPU will not be used.\n",
      "2024-11-16 21:18:36.203545: I external/local_xla/xla/tsl/cuda/cudart_stub.cc:32] Could not find cuda drivers on your machine, GPU will not be used.\n",
      "2024-11-16 21:18:36.216509: E external/local_xla/xla/stream_executor/cuda/cuda_fft.cc:477] Unable to register cuFFT factory: Attempting to register factory for plugin cuFFT when one has already been registered\n",
      "WARNING: All log messages before absl::InitializeLog() is called are written to STDERR\n",
      "E0000 00:00:1731791916.235059    3382 cuda_dnn.cc:8310] Unable to register cuDNN factory: Attempting to register factory for plugin cuDNN when one has already been registered\n",
      "E0000 00:00:1731791916.240662    3382 cuda_blas.cc:1418] Unable to register cuBLAS factory: Attempting to register factory for plugin cuBLAS when one has already been registered\n",
      "2024-11-16 21:18:36.261670: I tensorflow/core/platform/cpu_feature_guard.cc:210] This TensorFlow binary is optimized to use available CPU instructions in performance-critical operations.\n",
      "To enable the following instructions: AVX2 FMA, in other operations, rebuild TensorFlow with the appropriate compiler flags.\n"
     ]
    }
   ],
   "source": [
    "import zipfile\n",
    "from sklearn.preprocessing import LabelEncoder\n",
    "from tensorflow.keras.preprocessing import image\n",
    "import warnings"
   ]
  },
  {
   "cell_type": "code",
   "execution_count": 3,
   "id": "0c4837ec-cc26-424e-8727-cfbf47431d05",
   "metadata": {},
   "outputs": [],
   "source": [
    "zip_path = 'FracAtlas.zip'\n",
    "extract_dir = 'fracatlas_extracted'\n",
    "\n",
    "os.makedirs(extract_dir, exist_ok=True)\n",
    "\n",
    "with zipfile.ZipFile(zip_path, 'r') as zip_ref:\n",
    "    zip_ref.extractall(extract_dir)\n",
    "\n",
    "images_dir = os.path.join(extract_dir, 'FracAtlas/images')\n",
    "annotations_dir = os.path.join(extract_dir, 'FracAtlas/Annotations/YOLO')"
   ]
  },
  {
   "cell_type": "code",
   "execution_count": 4,
   "id": "1877bb13-2d59-43c2-aba3-1a4114a17b21",
   "metadata": {
    "scrolled": true
   },
   "outputs": [],
   "source": [
    "# Checked to see if each image has a corresponding label\n",
    "\n",
    "categories = ['Fractured', 'Non_fractured']\n",
    "\n",
    "for cat in categories:\n",
    "    category_path = os.path.join(images_dir, cat)\n",
    "    \n",
    "    for img_file in os.listdir(category_path):\n",
    "        if img_file.endswith(('.jpg', '.jpeg', '.png')):\n",
    "            img_name = os.path.splitext(img_file)[0]\n",
    "            annotation_file = img_name + '.txt'\n",
    "            annotation_path = os.path.join(annotations_dir, annotation_file)\n",
    "\n",
    "            # if os.path.exists(annotation_path):\n",
    "            #     print(f\"Found annotation for {img_file}: {annotation_path}\")\n",
    "            # else:\n",
    "            #     print(f\"No annotation found for {img_file} at {annotation_path}.\")"
   ]
  },
  {
   "cell_type": "code",
   "execution_count": 5,
   "id": "927fa8cf-d60f-4120-a3cf-263f61c6437e",
   "metadata": {},
   "outputs": [
    {
     "name": "stdout",
     "output_type": "stream",
     "text": [
      "4083 image paths and 4083 labels in organized data\n"
     ]
    }
   ],
   "source": [
    "# Organize the data into {\"inputs\": images, \"labels\": labels} structure!\n",
    "\n",
    "images_dir = 'fracatlas_extracted/FracAtlas/images'\n",
    "annotations_dir = 'fracatlas_extracted/FracAtlas/Annotations/YOLO'\n",
    "\n",
    "images = []\n",
    "labels = []\n",
    "\n",
    "for category in os.listdir(images_dir):\n",
    "    category_path = os.path.join(images_dir, category)\n",
    "    \n",
    "    if not os.path.isdir(category_path):\n",
    "        continue \n",
    "\n",
    "    for img_file in os.listdir(category_path):\n",
    "        if img_file.endswith(('.jpg', '.jpeg', '.png')): \n",
    "            img_name = os.path.splitext(img_file)[0]\n",
    "            annotation_file = img_name + '.txt'\n",
    "            annotation_path = os.path.join(annotations_dir, annotation_file)\n",
    "\n",
    "            if os.path.exists(annotation_path):\n",
    "                img_path = os.path.join(category_path, img_file)\n",
    "                images.append(img_path)\n",
    "                labels.append(category)\n",
    "            else:\n",
    "                print(f\"No annotation found for {img_file} at {annotation_path}.\")\n",
    "\n",
    "data_dict_old = {\n",
    "    \"inputs\": images,\n",
    "    \"labels\": labels\n",
    "}\n",
    "\n",
    "print(f\"{len(images)} image paths and {len(labels)} labels in organized data\")"
   ]
  },
  {
   "cell_type": "code",
   "execution_count": 6,
   "id": "07f1ec10-e827-4755-9070-8c6c9063de1b",
   "metadata": {
    "scrolled": true
   },
   "outputs": [
    {
     "name": "stderr",
     "output_type": "stream",
     "text": [
      "/tmp/ipykernel_3382/2169368734.py:10: UserWarning: Skipping corrupted image: fracatlas_extracted/FracAtlas/images/Non_fractured/IMG0004189.jpg. Error: image file is truncated (16 bytes not processed)\n",
      "  warnings.warn(f\"Skipping corrupted image: {img_path}. Error: {e}\")\n",
      "/tmp/ipykernel_3382/2169368734.py:10: UserWarning: Skipping corrupted image: fracatlas_extracted/FracAtlas/images/Non_fractured/IMG0004123.jpg. Error: image file is truncated (17 bytes not processed)\n",
      "  warnings.warn(f\"Skipping corrupted image: {img_path}. Error: {e}\")\n",
      "/tmp/ipykernel_3382/2169368734.py:10: UserWarning: Skipping corrupted image: fracatlas_extracted/FracAtlas/images/Non_fractured/IMG0004297.jpg. Error: image file is truncated (5 bytes not processed)\n",
      "  warnings.warn(f\"Skipping corrupted image: {img_path}. Error: {e}\")\n",
      "/tmp/ipykernel_3382/2169368734.py:10: UserWarning: Skipping corrupted image: fracatlas_extracted/FracAtlas/images/Non_fractured/IMG0004290.jpg. Error: image file is truncated (54 bytes not processed)\n",
      "  warnings.warn(f\"Skipping corrupted image: {img_path}. Error: {e}\")\n",
      "/tmp/ipykernel_3382/2169368734.py:10: UserWarning: Skipping corrupted image: fracatlas_extracted/FracAtlas/images/Non_fractured/IMG0004273.jpg. Error: image file is truncated (8 bytes not processed)\n",
      "  warnings.warn(f\"Skipping corrupted image: {img_path}. Error: {e}\")\n",
      "/tmp/ipykernel_3382/2169368734.py:10: UserWarning: Skipping corrupted image: fracatlas_extracted/FracAtlas/images/Non_fractured/IMG0004098.jpg. Error: image file is truncated (17 bytes not processed)\n",
      "  warnings.warn(f\"Skipping corrupted image: {img_path}. Error: {e}\")\n",
      "/tmp/ipykernel_3382/2169368734.py:10: UserWarning: Skipping corrupted image: fracatlas_extracted/FracAtlas/images/Non_fractured/IMG0004100.jpg. Error: image file is truncated (15 bytes not processed)\n",
      "  warnings.warn(f\"Skipping corrupted image: {img_path}. Error: {e}\")\n",
      "/tmp/ipykernel_3382/2169368734.py:10: UserWarning: Skipping corrupted image: fracatlas_extracted/FracAtlas/images/Non_fractured/IMG0004109.jpg. Error: image file is truncated (5 bytes not processed)\n",
      "  warnings.warn(f\"Skipping corrupted image: {img_path}. Error: {e}\")\n",
      "/tmp/ipykernel_3382/2169368734.py:10: UserWarning: Skipping corrupted image: fracatlas_extracted/FracAtlas/images/Non_fractured/IMG0004308.jpg. Error: image file is truncated (40 bytes not processed)\n",
      "  warnings.warn(f\"Skipping corrupted image: {img_path}. Error: {e}\")\n",
      "/tmp/ipykernel_3382/2169368734.py:10: UserWarning: Skipping corrupted image: fracatlas_extracted/FracAtlas/images/Non_fractured/IMG0004286.jpg. Error: image file is truncated (46 bytes not processed)\n",
      "  warnings.warn(f\"Skipping corrupted image: {img_path}. Error: {e}\")\n",
      "/tmp/ipykernel_3382/2169368734.py:10: UserWarning: Skipping corrupted image: fracatlas_extracted/FracAtlas/images/Non_fractured/IMG0004259.jpg. Error: image file is truncated (7 bytes not processed)\n",
      "  warnings.warn(f\"Skipping corrupted image: {img_path}. Error: {e}\")\n",
      "/tmp/ipykernel_3382/2169368734.py:10: UserWarning: Skipping corrupted image: fracatlas_extracted/FracAtlas/images/Non_fractured/IMG0004288.jpg. Error: image file is truncated (1 bytes not processed)\n",
      "  warnings.warn(f\"Skipping corrupted image: {img_path}. Error: {e}\")\n",
      "/tmp/ipykernel_3382/2169368734.py:10: UserWarning: Skipping corrupted image: fracatlas_extracted/FracAtlas/images/Non_fractured/IMG0004149.jpg. Error: image file is truncated (33 bytes not processed)\n",
      "  warnings.warn(f\"Skipping corrupted image: {img_path}. Error: {e}\")\n",
      "/tmp/ipykernel_3382/2169368734.py:10: UserWarning: Skipping corrupted image: fracatlas_extracted/FracAtlas/images/Non_fractured/IMG0004119.jpg. Error: image file is truncated (6 bytes not processed)\n",
      "  warnings.warn(f\"Skipping corrupted image: {img_path}. Error: {e}\")\n",
      "/tmp/ipykernel_3382/2169368734.py:10: UserWarning: Skipping corrupted image: fracatlas_extracted/FracAtlas/images/Non_fractured/IMG0004275.jpg. Error: image file is truncated (24 bytes not processed)\n",
      "  warnings.warn(f\"Skipping corrupted image: {img_path}. Error: {e}\")\n",
      "/tmp/ipykernel_3382/2169368734.py:10: UserWarning: Skipping corrupted image: fracatlas_extracted/FracAtlas/images/Non_fractured/IMG0004291.jpg. Error: image file is truncated (13 bytes not processed)\n",
      "  warnings.warn(f\"Skipping corrupted image: {img_path}. Error: {e}\")\n",
      "/tmp/ipykernel_3382/2169368734.py:10: UserWarning: Skipping corrupted image: fracatlas_extracted/FracAtlas/images/Non_fractured/IMG0004073.jpg. Error: image file is truncated (3 bytes not processed)\n",
      "  warnings.warn(f\"Skipping corrupted image: {img_path}. Error: {e}\")\n",
      "/tmp/ipykernel_3382/2169368734.py:10: UserWarning: Skipping corrupted image: fracatlas_extracted/FracAtlas/images/Non_fractured/IMG0004122.jpg. Error: image file is truncated (26 bytes not processed)\n",
      "  warnings.warn(f\"Skipping corrupted image: {img_path}. Error: {e}\")\n",
      "/tmp/ipykernel_3382/2169368734.py:10: UserWarning: Skipping corrupted image: fracatlas_extracted/FracAtlas/images/Non_fractured/IMG0004298.jpg. Error: image file is truncated (19 bytes not processed)\n",
      "  warnings.warn(f\"Skipping corrupted image: {img_path}. Error: {e}\")\n",
      "/tmp/ipykernel_3382/2169368734.py:10: UserWarning: Skipping corrupted image: fracatlas_extracted/FracAtlas/images/Non_fractured/IMG0004159.jpg. Error: image file is truncated (8 bytes not processed)\n",
      "  warnings.warn(f\"Skipping corrupted image: {img_path}. Error: {e}\")\n",
      "/tmp/ipykernel_3382/2169368734.py:10: UserWarning: Skipping corrupted image: fracatlas_extracted/FracAtlas/images/Non_fractured/IMG0004148.jpg. Error: image file is truncated (14 bytes not processed)\n",
      "  warnings.warn(f\"Skipping corrupted image: {img_path}. Error: {e}\")\n",
      "/tmp/ipykernel_3382/2169368734.py:10: UserWarning: Skipping corrupted image: fracatlas_extracted/FracAtlas/images/Non_fractured/IMG0004134.jpg. Error: image file is truncated (1 bytes not processed)\n",
      "  warnings.warn(f\"Skipping corrupted image: {img_path}. Error: {e}\")\n",
      "/tmp/ipykernel_3382/2169368734.py:10: UserWarning: Skipping corrupted image: fracatlas_extracted/FracAtlas/images/Non_fractured/IMG0004258.jpg. Error: image file is truncated (0 bytes not processed)\n",
      "  warnings.warn(f\"Skipping corrupted image: {img_path}. Error: {e}\")\n",
      "/tmp/ipykernel_3382/2169368734.py:10: UserWarning: Skipping corrupted image: fracatlas_extracted/FracAtlas/images/Non_fractured/IMG0004256.jpg. Error: image file is truncated (66 bytes not processed)\n",
      "  warnings.warn(f\"Skipping corrupted image: {img_path}. Error: {e}\")\n",
      "/tmp/ipykernel_3382/2169368734.py:10: UserWarning: Skipping corrupted image: fracatlas_extracted/FracAtlas/images/Non_fractured/IMG0004251.jpg. Error: image file is truncated (19 bytes not processed)\n",
      "  warnings.warn(f\"Skipping corrupted image: {img_path}. Error: {e}\")\n",
      "/tmp/ipykernel_3382/2169368734.py:10: UserWarning: Skipping corrupted image: fracatlas_extracted/FracAtlas/images/Non_fractured/IMG0004173.jpg. Error: image file is truncated (0 bytes not processed)\n",
      "  warnings.warn(f\"Skipping corrupted image: {img_path}. Error: {e}\")\n",
      "/tmp/ipykernel_3382/2169368734.py:10: UserWarning: Skipping corrupted image: fracatlas_extracted/FracAtlas/images/Non_fractured/IMG0004347.jpg. Error: image file is truncated (40 bytes not processed)\n",
      "  warnings.warn(f\"Skipping corrupted image: {img_path}. Error: {e}\")\n",
      "/tmp/ipykernel_3382/2169368734.py:10: UserWarning: Skipping corrupted image: fracatlas_extracted/FracAtlas/images/Non_fractured/IMG0004174.jpg. Error: image file is truncated (4 bytes not processed)\n",
      "  warnings.warn(f\"Skipping corrupted image: {img_path}. Error: {e}\")\n",
      "/tmp/ipykernel_3382/2169368734.py:10: UserWarning: Skipping corrupted image: fracatlas_extracted/FracAtlas/images/Non_fractured/IMG0004263.jpg. Error: image file is truncated (24 bytes not processed)\n",
      "  warnings.warn(f\"Skipping corrupted image: {img_path}. Error: {e}\")\n",
      "/tmp/ipykernel_3382/2169368734.py:10: UserWarning: Skipping corrupted image: fracatlas_extracted/FracAtlas/images/Non_fractured/IMG0004227.jpg. Error: image file is truncated (30 bytes not processed)\n",
      "  warnings.warn(f\"Skipping corrupted image: {img_path}. Error: {e}\")\n",
      "/tmp/ipykernel_3382/2169368734.py:10: UserWarning: Skipping corrupted image: fracatlas_extracted/FracAtlas/images/Non_fractured/IMG0004130.jpg. Error: image file is truncated (8 bytes not processed)\n",
      "  warnings.warn(f\"Skipping corrupted image: {img_path}. Error: {e}\")\n",
      "/tmp/ipykernel_3382/2169368734.py:10: UserWarning: Skipping corrupted image: fracatlas_extracted/FracAtlas/images/Non_fractured/IMG0004304.jpg. Error: image file is truncated (22 bytes not processed)\n",
      "  warnings.warn(f\"Skipping corrupted image: {img_path}. Error: {e}\")\n",
      "/tmp/ipykernel_3382/2169368734.py:10: UserWarning: Skipping corrupted image: fracatlas_extracted/FracAtlas/images/Non_fractured/IMG0004252.jpg. Error: image file is truncated (67 bytes not processed)\n",
      "  warnings.warn(f\"Skipping corrupted image: {img_path}. Error: {e}\")\n",
      "/tmp/ipykernel_3382/2169368734.py:10: UserWarning: Skipping corrupted image: fracatlas_extracted/FracAtlas/images/Non_fractured/IMG0004194.jpg. Error: image file is truncated (10 bytes not processed)\n",
      "  warnings.warn(f\"Skipping corrupted image: {img_path}. Error: {e}\")\n",
      "/tmp/ipykernel_3382/2169368734.py:10: UserWarning: Skipping corrupted image: fracatlas_extracted/FracAtlas/images/Non_fractured/IMG0004145.jpg. Error: image file is truncated (10 bytes not processed)\n",
      "  warnings.warn(f\"Skipping corrupted image: {img_path}. Error: {e}\")\n",
      "/tmp/ipykernel_3382/2169368734.py:10: UserWarning: Skipping corrupted image: fracatlas_extracted/FracAtlas/images/Non_fractured/IMG0004255.jpg. Error: image file is truncated (20 bytes not processed)\n",
      "  warnings.warn(f\"Skipping corrupted image: {img_path}. Error: {e}\")\n",
      "/tmp/ipykernel_3382/2169368734.py:10: UserWarning: Skipping corrupted image: fracatlas_extracted/FracAtlas/images/Non_fractured/IMG0004142.jpg. Error: image file is truncated (32 bytes not processed)\n",
      "  warnings.warn(f\"Skipping corrupted image: {img_path}. Error: {e}\")\n",
      "/tmp/ipykernel_3382/2169368734.py:10: UserWarning: Skipping corrupted image: fracatlas_extracted/FracAtlas/images/Non_fractured/IMG0004177.jpg. Error: image file is truncated (34 bytes not processed)\n",
      "  warnings.warn(f\"Skipping corrupted image: {img_path}. Error: {e}\")\n",
      "/tmp/ipykernel_3382/2169368734.py:10: UserWarning: Skipping corrupted image: fracatlas_extracted/FracAtlas/images/Non_fractured/IMG0004170.jpg. Error: image file is truncated (11 bytes not processed)\n",
      "  warnings.warn(f\"Skipping corrupted image: {img_path}. Error: {e}\")\n",
      "/tmp/ipykernel_3382/2169368734.py:10: UserWarning: Skipping corrupted image: fracatlas_extracted/FracAtlas/images/Non_fractured/IMG0004028.jpg. Error: image file is truncated (20 bytes not processed)\n",
      "  warnings.warn(f\"Skipping corrupted image: {img_path}. Error: {e}\")\n",
      "/tmp/ipykernel_3382/2169368734.py:10: UserWarning: Skipping corrupted image: fracatlas_extracted/FracAtlas/images/Non_fractured/IMG0004278.jpg. Error: image file is truncated (29 bytes not processed)\n",
      "  warnings.warn(f\"Skipping corrupted image: {img_path}. Error: {e}\")\n",
      "/tmp/ipykernel_3382/2169368734.py:10: UserWarning: Skipping corrupted image: fracatlas_extracted/FracAtlas/images/Non_fractured/IMG0004154.jpg. Error: image file is truncated (22 bytes not processed)\n",
      "  warnings.warn(f\"Skipping corrupted image: {img_path}. Error: {e}\")\n",
      "/tmp/ipykernel_3382/2169368734.py:10: UserWarning: Skipping corrupted image: fracatlas_extracted/FracAtlas/images/Non_fractured/IMG0004070.jpg. Error: image file is truncated (41 bytes not processed)\n",
      "  warnings.warn(f\"Skipping corrupted image: {img_path}. Error: {e}\")\n",
      "/tmp/ipykernel_3382/2169368734.py:10: UserWarning: Skipping corrupted image: fracatlas_extracted/FracAtlas/images/Non_fractured/IMG0004079.jpg. Error: image file is truncated (24 bytes not processed)\n",
      "  warnings.warn(f\"Skipping corrupted image: {img_path}. Error: {e}\")\n",
      "/tmp/ipykernel_3382/2169368734.py:10: UserWarning: Skipping corrupted image: fracatlas_extracted/FracAtlas/images/Non_fractured/IMG0004121.jpg. Error: image file is truncated (40 bytes not processed)\n",
      "  warnings.warn(f\"Skipping corrupted image: {img_path}. Error: {e}\")\n",
      "/tmp/ipykernel_3382/2169368734.py:10: UserWarning: Skipping corrupted image: fracatlas_extracted/FracAtlas/images/Non_fractured/IMG0004029.jpg. Error: image file is truncated (22 bytes not processed)\n",
      "  warnings.warn(f\"Skipping corrupted image: {img_path}. Error: {e}\")\n",
      "/tmp/ipykernel_3382/2169368734.py:10: UserWarning: Skipping corrupted image: fracatlas_extracted/FracAtlas/images/Non_fractured/IMG0004084.jpg. Error: image file is truncated (5 bytes not processed)\n",
      "  warnings.warn(f\"Skipping corrupted image: {img_path}. Error: {e}\")\n",
      "/tmp/ipykernel_3382/2169368734.py:10: UserWarning: Skipping corrupted image: fracatlas_extracted/FracAtlas/images/Non_fractured/IMG0004228.jpg. Error: image file is truncated (17 bytes not processed)\n",
      "  warnings.warn(f\"Skipping corrupted image: {img_path}. Error: {e}\")\n",
      "/tmp/ipykernel_3382/2169368734.py:10: UserWarning: Skipping corrupted image: fracatlas_extracted/FracAtlas/images/Non_fractured/IMG0004143.jpg. Error: image file is truncated (10 bytes not processed)\n",
      "  warnings.warn(f\"Skipping corrupted image: {img_path}. Error: {e}\")\n",
      "/tmp/ipykernel_3382/2169368734.py:10: UserWarning: Skipping corrupted image: fracatlas_extracted/FracAtlas/images/Non_fractured/IMG0004285.jpg. Error: image file is truncated (9 bytes not processed)\n",
      "  warnings.warn(f\"Skipping corrupted image: {img_path}. Error: {e}\")\n",
      "/tmp/ipykernel_3382/2169368734.py:10: UserWarning: Skipping corrupted image: fracatlas_extracted/FracAtlas/images/Non_fractured/IMG0004226.jpg. Error: image file is truncated (23 bytes not processed)\n",
      "  warnings.warn(f\"Skipping corrupted image: {img_path}. Error: {e}\")\n",
      "/tmp/ipykernel_3382/2169368734.py:10: UserWarning: Skipping corrupted image: fracatlas_extracted/FracAtlas/images/Non_fractured/IMG0004120.jpg. Error: image file is truncated (8 bytes not processed)\n",
      "  warnings.warn(f\"Skipping corrupted image: {img_path}. Error: {e}\")\n",
      "/tmp/ipykernel_3382/2169368734.py:10: UserWarning: Skipping corrupted image: fracatlas_extracted/FracAtlas/images/Non_fractured/IMG0004155.jpg. Error: image file is truncated (18 bytes not processed)\n",
      "  warnings.warn(f\"Skipping corrupted image: {img_path}. Error: {e}\")\n",
      "/tmp/ipykernel_3382/2169368734.py:10: UserWarning: Skipping corrupted image: fracatlas_extracted/FracAtlas/images/Non_fractured/IMG0004129.jpg. Error: image file is truncated (6 bytes not processed)\n",
      "  warnings.warn(f\"Skipping corrupted image: {img_path}. Error: {e}\")\n",
      "/tmp/ipykernel_3382/2169368734.py:10: UserWarning: Skipping corrupted image: fracatlas_extracted/FracAtlas/images/Non_fractured/IMG0004076.jpg. Error: image file is truncated (0 bytes not processed)\n",
      "  warnings.warn(f\"Skipping corrupted image: {img_path}. Error: {e}\")\n",
      "/tmp/ipykernel_3382/2169368734.py:10: UserWarning: Skipping corrupted image: fracatlas_extracted/FracAtlas/images/Non_fractured/IMG0004092.jpg. Error: image file is truncated (3 bytes not processed)\n",
      "  warnings.warn(f\"Skipping corrupted image: {img_path}. Error: {e}\")\n",
      "/tmp/ipykernel_3382/2169368734.py:10: UserWarning: Skipping corrupted image: fracatlas_extracted/FracAtlas/images/Non_fractured/IMG0004036.jpg. Error: image file is truncated (14 bytes not processed)\n",
      "  warnings.warn(f\"Skipping corrupted image: {img_path}. Error: {e}\")\n",
      "/tmp/ipykernel_3382/2169368734.py:10: UserWarning: Skipping corrupted image: fracatlas_extracted/FracAtlas/images/Non_fractured/IMG0004279.jpg. Error: image file is truncated (5 bytes not processed)\n",
      "  warnings.warn(f\"Skipping corrupted image: {img_path}. Error: {e}\")\n",
      "/tmp/ipykernel_3382/2169368734.py:10: UserWarning: Skipping corrupted image: fracatlas_extracted/FracAtlas/images/Non_fractured/IMG0004169.jpg. Error: image file is truncated (14 bytes not processed)\n",
      "  warnings.warn(f\"Skipping corrupted image: {img_path}. Error: {e}\")\n"
     ]
    },
    {
     "name": "stdout",
     "output_type": "stream",
     "text": [
      "4024/4083 images processed\n"
     ]
    }
   ],
   "source": [
    "# Do not include corrupted/damaged images\n",
    "\n",
    "def preprocess(img_path):\n",
    "    try:\n",
    "        img = image.load_img(img_path, target_size=(224, 224))\n",
    "        img_array = image.img_to_array(img)\n",
    "        img_array = img_array / 255.0 # normalize pixel values\n",
    "        return img_array\n",
    "    except (OSError, IOError) as e:\n",
    "        warnings.warn(f\"Skipping corrupted image: {img_path}. Error: {e}\")\n",
    "        return None\n",
    "\n",
    "images = []\n",
    "labels = []\n",
    "\n",
    "for img_path, label in zip(data_dict_old[\"inputs\"], data_dict_old[\"labels\"]):\n",
    "    img = preprocess(img_path)\n",
    "    if img is not None:\n",
    "        images.append(img)\n",
    "        labels.append(label)\n",
    "\n",
    "images = np.array(images)\n",
    "labels = np.array(labels)\n",
    "\n",
    "data_dict = {\n",
    "    \"inputs\": images,\n",
    "    \"labels\": labels\n",
    "}\n",
    "\n",
    "print(f\"{len(images)}/{len(data_dict_old['inputs'])} images processed\")"
   ]
  },
  {
   "cell_type": "code",
   "execution_count": 7,
   "id": "21f0e798-e0be-495e-80af-c81be43572f3",
   "metadata": {},
   "outputs": [],
   "source": [
    "# Encode the output labels to be 0 or 1\n",
    "\n",
    "label_encoder = LabelEncoder()\n",
    "encoded_labels = label_encoder.fit_transform(data_dict[\"labels\"])\n",
    "data_dict[\"encoded_labels\"] = encoded_labels"
   ]
  },
  {
   "cell_type": "code",
   "execution_count": null,
   "id": "dc94ac93-3ab3-4f1a-80ef-245c50f2bcac",
   "metadata": {},
   "outputs": [],
   "source": []
  },
  {
   "cell_type": "code",
   "execution_count": 8,
   "id": "15e60fff-f92c-40a1-b88e-ec79c7776567",
   "metadata": {},
   "outputs": [],
   "source": [
    "#image.load_img(\"fracatlas_extracted/FracAtlas/images/Non_fractured/IMG0004189.jpg\", target_size=(224, 224))"
   ]
  },
  {
   "cell_type": "code",
   "execution_count": 9,
   "id": "556309bb-e623-4d8b-9f24-9756425dc349",
   "metadata": {},
   "outputs": [],
   "source": [
    "#fracatlas_extracted/FracAtlas/Annotations/YOLO/IMG0000008.txt\n",
    "#fracatlas_extracted/FracAtlas/images/Non_fractured/IMG0000008.jpg"
   ]
  },
  {
   "cell_type": "code",
   "execution_count": null,
   "id": "dfec59a5-c2e8-4bdf-b29a-7d504de745d5",
   "metadata": {},
   "outputs": [],
   "source": []
  }
 ],
 "metadata": {
  "kernelspec": {
   "display_name": "Python 3 (ipykernel)",
   "language": "python",
   "name": "python3"
  },
  "language_info": {
   "codemirror_mode": {
    "name": "ipython",
    "version": 3
   },
   "file_extension": ".py",
   "mimetype": "text/x-python",
   "name": "python",
   "nbconvert_exporter": "python",
   "pygments_lexer": "ipython3",
   "version": "3.11.9"
  }
 },
 "nbformat": 4,
 "nbformat_minor": 5
}
