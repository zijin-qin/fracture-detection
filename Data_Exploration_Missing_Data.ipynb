{
  "nbformat": 4,
  "nbformat_minor": 0,
  "metadata": {
    "colab": {
      "provenance": []
    },
    "kernelspec": {
      "name": "python3",
      "display_name": "Python 3"
    },
    "language_info": {
      "name": "python"
    }
  },
  "cells": [
    {
      "cell_type": "code",
      "execution_count": 1,
      "metadata": {
        "colab": {
          "base_uri": "https://localhost:8080/"
        },
        "id": "Xs9cPZKNuDgt",
        "outputId": "bb21d773-2c25-45a3-bb77-80346ce70a57"
      },
      "outputs": [
        {
          "output_type": "stream",
          "name": "stdout",
          "text": [
            "Requirement already satisfied: kaggle in /usr/local/lib/python3.10/dist-packages (1.6.17)\n",
            "Requirement already satisfied: six>=1.10 in /usr/local/lib/python3.10/dist-packages (from kaggle) (1.16.0)\n",
            "Requirement already satisfied: certifi>=2023.7.22 in /usr/local/lib/python3.10/dist-packages (from kaggle) (2024.8.30)\n",
            "Requirement already satisfied: python-dateutil in /usr/local/lib/python3.10/dist-packages (from kaggle) (2.8.2)\n",
            "Requirement already satisfied: requests in /usr/local/lib/python3.10/dist-packages (from kaggle) (2.32.3)\n",
            "Requirement already satisfied: tqdm in /usr/local/lib/python3.10/dist-packages (from kaggle) (4.66.6)\n",
            "Requirement already satisfied: python-slugify in /usr/local/lib/python3.10/dist-packages (from kaggle) (8.0.4)\n",
            "Requirement already satisfied: urllib3 in /usr/local/lib/python3.10/dist-packages (from kaggle) (2.2.3)\n",
            "Requirement already satisfied: bleach in /usr/local/lib/python3.10/dist-packages (from kaggle) (6.2.0)\n",
            "Requirement already satisfied: webencodings in /usr/local/lib/python3.10/dist-packages (from bleach->kaggle) (0.5.1)\n",
            "Requirement already satisfied: text-unidecode>=1.3 in /usr/local/lib/python3.10/dist-packages (from python-slugify->kaggle) (1.3)\n",
            "Requirement already satisfied: charset-normalizer<4,>=2 in /usr/local/lib/python3.10/dist-packages (from requests->kaggle) (3.4.0)\n",
            "Requirement already satisfied: idna<4,>=2.5 in /usr/local/lib/python3.10/dist-packages (from requests->kaggle) (3.10)\n",
            "Dataset URL: https://www.kaggle.com/datasets/abdohamdg/fracatlas-dataset\n",
            "License(s): ODC Public Domain Dedication and Licence (PDDL)\n",
            "Downloading fracatlas-dataset.zip to /content\n",
            " 74% 65.0M/87.6M [00:00<00:00, 147MB/s]\n",
            "100% 87.6M/87.6M [00:00<00:00, 154MB/s]\n"
          ]
        }
      ],
      "source": [
        "# Download data set from Kaggle and unzip into directory\n",
        "!pip install kaggle\n",
        "!mkdir -p ~/.kaggle\n",
        "!kaggle datasets download -d abdohamdg/fracatlas-dataset\n",
        "!unzip -q fracatlas-dataset.zip -d fracatlas_directory/"
      ]
    },
    {
      "cell_type": "code",
      "source": [
        "import os\n",
        "import re"
      ],
      "metadata": {
        "id": "zSG33Youobhk"
      },
      "execution_count": 2,
      "outputs": []
    },
    {
      "cell_type": "code",
      "source": [
        "# Base directory and subsets to access for images\n",
        "base_directory = 'fracatlas_directory/Fracatlas/'\n",
        "subsets = ['train', 'test', 'validation']"
      ],
      "metadata": {
        "id": "-cpThYM107Nm"
      },
      "execution_count": 3,
      "outputs": []
    },
    {
      "cell_type": "code",
      "source": [
        "# Check number of images and labels in each subset\n",
        "\n",
        "# Iterate through each subset and count number of files\n",
        "for subset in subsets:\n",
        "    image_directory = os.path.join(base_directory, subset, 'images')\n",
        "\n",
        "    if subset == 'validation':\n",
        "        label_directory = os.path.join(base_directory, subset, 'lables')  # Possible typo in folder name\n",
        "    else:\n",
        "        label_directory = os.path.join(base_directory, subset, 'labels')\n",
        "\n",
        "    # Count image files\n",
        "    image_files = os.listdir(image_directory)\n",
        "    num_images = len(image_files)\n",
        "\n",
        "    # Count label files\n",
        "    label_files = os.listdir(label_directory)\n",
        "    num_labels = len(label_files)\n",
        "\n",
        "    # Print the counts\n",
        "    print(f\"{subset.capitalize()} subset:\")\n",
        "    print(f\"  Number of images: {num_images}\")\n",
        "    print(f\"  Number of labels: {num_labels}\\n\")"
      ],
      "metadata": {
        "colab": {
          "base_uri": "https://localhost:8080/"
        },
        "id": "A6AUorSCuOG6",
        "outputId": "7d014d6f-ab3f-4128-90ac-29b7ac2b9a48"
      },
      "execution_count": 4,
      "outputs": [
        {
          "output_type": "stream",
          "name": "stdout",
          "text": [
            "Train subset:\n",
            "  Number of images: 574\n",
            "  Number of labels: 574\n",
            "\n",
            "Test subset:\n",
            "  Number of images: 61\n",
            "  Number of labels: 61\n",
            "\n",
            "Validation subset:\n",
            "  Number of images: 82\n",
            "  Number of labels: 82\n",
            "\n"
          ]
        }
      ]
    },
    {
      "cell_type": "code",
      "source": [
        "# Check if image and label names match\n",
        "\n",
        "def name_match(image_dir, label_dir):\n",
        "    image_files = os.listdir(image_dir) # List of image files\n",
        "    label_files = os.listdir(label_dir) # List of label files\n",
        "\n",
        "    # Check if each image has a corresponding label file\n",
        "    missing_labels = []\n",
        "    for image_file in image_files:\n",
        "        label_file = os.path.splitext(image_file)[0] + '.txt'\n",
        "        if label_file not in label_files:\n",
        "            missing_labels.append(image_file)\n",
        "\n",
        "    if missing_labels:\n",
        "        print(f\"Missing labels for images: {missing_labels}\")\n",
        "    else:\n",
        "        print(\"All images have corresponding label files.\")\n",
        "\n",
        "# Iterate through each subset and count number of files\n",
        "for subset in subsets:\n",
        "    image_directory = os.path.join(base_directory, subset, 'images')\n",
        "\n",
        "    if subset == 'validation':\n",
        "        label_directory = os.path.join(base_directory, subset, 'lables')  # Possible typo in folder name\n",
        "    else:\n",
        "        label_directory = os.path.join(base_directory, subset, 'labels')\n",
        "\n",
        "    # Check labels for the current subset\n",
        "    print(f\"Checking for mismatched labels in {subset} subset:\")\n",
        "    name_match(image_directory, label_directory)\n",
        "    print()"
      ],
      "metadata": {
        "id": "cI6WG33Zu74i",
        "colab": {
          "base_uri": "https://localhost:8080/"
        },
        "outputId": "bcf6530c-0569-453f-fd89-18773d75b8d7"
      },
      "execution_count": 5,
      "outputs": [
        {
          "output_type": "stream",
          "name": "stdout",
          "text": [
            "Checking for mismatched labels in train subset:\n",
            "All images have corresponding label files.\n",
            "\n",
            "Checking for mismatched labels in test subset:\n",
            "All images have corresponding label files.\n",
            "\n",
            "Checking for mismatched labels in validation subset:\n",
            "All images have corresponding label files.\n",
            "\n"
          ]
        }
      ]
    },
    {
      "cell_type": "code",
      "source": [
        "# Check if all label files have same format\n",
        "\n",
        "# Function to check number of entries in label file and return total count\n",
        "def check_label_file(label_file_path):\n",
        "    with open(label_file_path, 'r') as f:\n",
        "        content = f.readlines()  # Read all lines\n",
        "        all_numbers = []\n",
        "\n",
        "        for line in content:\n",
        "            numbers = line.strip().split()  # Split by spaces\n",
        "            all_numbers.extend(numbers)  # Collect all numbers\n",
        "\n",
        "        return len(all_numbers)\n",
        "\n",
        "# Dictionary to store number of occurrences of each number of entries\n",
        "count_dict = {}\n",
        "total_empty_files = 0\n",
        "\n",
        "# Check label files in each subset\n",
        "for subset in subsets:\n",
        "    if subset == 'validation':\n",
        "        label_directory = os.path.join(base_directory, subset, 'lables')  # Possible typo in folder name\n",
        "    else:\n",
        "        label_directory = os.path.join(base_directory, subset, 'labels')\n",
        "\n",
        "    label_files = os.listdir(label_directory)\n",
        "\n",
        "    for label_file in label_files:\n",
        "        label_file_path = os.path.join(label_directory, label_file)\n",
        "        num_count = check_label_file(label_file_path)\n",
        "\n",
        "        # Check conditions\n",
        "        if num_count == 0:\n",
        "            total_empty_files += 1\n",
        "        else:\n",
        "            # Update count in the dictionary\n",
        "            if num_count in count_dict:\n",
        "                count_dict[num_count] += 1\n",
        "            else:\n",
        "                count_dict[num_count] = 1\n",
        "\n",
        "# Output the total empty files first\n",
        "print(f\"Total empty files: {total_empty_files}\")\n",
        "\n",
        "# Output the counts in ascending order for non-empty files\n",
        "for number in sorted(count_dict.keys()):\n",
        "    print(f\"Total files with {number} numbers: {count_dict[number]}\")"
      ],
      "metadata": {
        "colab": {
          "base_uri": "https://localhost:8080/"
        },
        "id": "4xQ3sjTx6W5T",
        "outputId": "7342ac61-6c18-44ee-a0fa-d7220d4ccfb3"
      },
      "execution_count": 6,
      "outputs": [
        {
          "output_type": "stream",
          "name": "stdout",
          "text": [
            "Total empty files: 0\n",
            "Total files with 5 numbers: 546\n",
            "Total files with 10 numbers: 146\n",
            "Total files with 15 numbers: 17\n",
            "Total files with 20 numbers: 7\n",
            "Total files with 25 numbers: 1\n"
          ]
        }
      ]
    },
    {
      "cell_type": "code",
      "source": [],
      "metadata": {
        "id": "GmR_67w49WPJ"
      },
      "execution_count": 6,
      "outputs": []
    }
  ]
}